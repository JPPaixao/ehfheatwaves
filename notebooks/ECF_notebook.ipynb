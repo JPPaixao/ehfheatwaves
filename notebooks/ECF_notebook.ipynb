{
 "cells": [
  {
   "cell_type": "markdown",
   "metadata": {},
   "source": [
    "**Compute ECF using altered ehfheatwaves library**"
   ]
  },
  {
   "cell_type": "markdown",
   "metadata": {},
   "source": [
    "Install ehfheatwaves library from the zip file onto a folder, and open the terminal on that directory. Do pip install like:"
   ]
  },
  {
   "cell_type": "code",
   "execution_count": 2,
   "metadata": {},
   "outputs": [],
   "source": [
    "#pip install ."
   ]
  },
  {
   "cell_type": "markdown",
   "metadata": {},
   "source": [
    "Run this on command line (the mask is not necessary):"
   ]
  },
  {
   "cell_type": "code",
   "execution_count": 40,
   "metadata": {},
   "outputs": [],
   "source": [
    "#ehfheatwaves -x /path/to/tx.nc --vnamex tx -n /path/to/tn.nc --vnamen tn -m  /path/to/mask.nc --vnamem mask --base=1991-2020 --daily --dailyonly --ecf -p 10"
   ]
  },
  {
   "cell_type": "markdown",
   "metadata": {},
   "source": [
    "Analyze ehf"
   ]
  },
  {
   "cell_type": "code",
   "execution_count": null,
   "metadata": {},
   "outputs": [],
   "source": [
    "import xarray as xr\n",
    "ds_ecf = xr.open_dataset('/path/to/ecf.nc')\n",
    "ds_ecf = ds_ecf[['ECF']]\n",
    "ds_ecf.ECF.isel(time=-1).plot()"
   ]
  },
  {
   "cell_type": "markdown",
   "metadata": {},
   "source": [
    "To create a video, choose a timeline:"
   ]
  },
  {
   "cell_type": "code",
   "execution_count": 17,
   "metadata": {},
   "outputs": [],
   "source": [
    "import numpy as np\n",
    "import matplotlib.pyplot as plt\n",
    "import cv2\n",
    "from matplotlib.backends.backend_agg import FigureCanvasAgg as FigureCanvas\n",
    "from pathlib import Path\n",
    "#from matplotlib.colors import TwoSlopeNorm\n",
    "\n",
    "# Functions for creating and rendering video\n",
    "def render_video(output_video_filepath, frames, fps=5):\n",
    "    # Parameters\n",
    "    width, height = frames[0].shape[1], frames[0].shape[0]  # Use the size of the first frame\n",
    "\n",
    "    # Create VideoWriter object\n",
    "    out = cv2.VideoWriter(output_video_filepath, cv2.VideoWriter_fourcc(*'mp4v'), fps, (width, height))\n",
    "\n",
    "    # Write frames to video\n",
    "    for frame in frames:\n",
    "        out.write(frame)\n",
    "\n",
    "    # Release VideoWriter\n",
    "    out.release()\n",
    "\n",
    "def create_video_frames(figs):\n",
    "    frames = []\n",
    "    for fig in figs:\n",
    "        canvas = FigureCanvas(fig)\n",
    "        canvas.draw()  # Draw the figure\n",
    "        img = np.array(canvas.renderer.buffer_rgba())  # Convert to RGBA buffer\n",
    "        img_bgr = cv2.cvtColor(img, cv2.COLOR_RGBA2BGR)  # Convert to BGR (OpenCV) format\n",
    "        frames.append(img_bgr)\n",
    "        plt.close(fig)  # Close the figure to free memory\n",
    "    return frames\n",
    "\n",
    "def dist_value_range(dataarray, n_dev=1):\n",
    "    \"\"\"\n",
    "    Calculate a smart value range for a DataArray based on standard deviations\n",
    "    from the mean.\n",
    "\n",
    "    Parameters:\n",
    "        dataarray (xarray.DataArray): The input DataArray.\n",
    "\n",
    "    Returns:\n",
    "        tuple: (vmin, vmax) for the colorbar range.\n",
    "    \"\"\"\n",
    "    mean = dataarray.mean(skipna=True).item()\n",
    "    std = dataarray.std(skipna=True).item()\n",
    "    vmin = mean - n_dev * std\n",
    "    vmax = mean + n_dev * std\n",
    "    return vmin, vmax\n",
    "\n",
    "def mk1frame(i, dataarray, value_range,\n",
    "              title = None, dist_range= False, ):\n",
    "\n",
    "    if value_range is None:\n",
    "        if dist_range: vmin, vmax = dist_value_range(dataarray)\n",
    "        else: vmin, vmax = float(dataarray.min()), float(dataarray.max())\n",
    "    else: vmin, vmax = value_range\n",
    "\n",
    "    fig, ax = plt.subplots(figsize=(10, 6))\n",
    "    dataarray.isel(time=i).plot(ax=ax, vmin=vmin, vmax=vmax,\n",
    "                                 cbar_kwargs={\"shrink\": 0.7},\n",
    "                                 #cmap=\"coolwarm\",\n",
    "                                 #norm=TwoSlopeNorm(vcenter=0,vmin=vmin, vmax=vmax)\n",
    "                                    )\n",
    "    \n",
    "    if title is None: title = dataarray.name\n",
    "    date = dataarray.time[i].dt.strftime(\"%Y-%m-%d\").item()\n",
    "    ax.set_title(f\"{title} - {date}\")\n",
    "\n",
    "    return fig\n",
    "\n",
    "# Function to create an animation from an xarray DataArray\n",
    "def create_video_from_xarray(dataarray, output_video_filepath, value_range=None, title=None, fps=5, dist_range = False):\n",
    "    output_path = Path(output_video_filepath)\n",
    "    output_path.parent.mkdir(parents=True, exist_ok=True)\n",
    "\n",
    "    if not output_video_filepath.endswith('.mp4'):\n",
    "        raise ValueError(\"Output file path must end with '.mp4'\")\n",
    "\n",
    "    figs = []\n",
    "    for i in range(len(dataarray.time)):\n",
    "        fig = mk1frame(i, dataarray, value_range, title, dist_range)\n",
    "        #plt.show(fig)\n",
    "        figs.append(fig)\n",
    "\n",
    "    # Convert figures to frames\n",
    "    frames = create_video_frames(figs)\n",
    "    del figs; del fig\n",
    "\n",
    "    # Save video\n",
    "    render_video(output_video_filepath, frames, fps); del frames"
   ]
  },
  {
   "cell_type": "code",
   "execution_count": null,
   "metadata": {},
   "outputs": [],
   "source": [
    "output_file = './ds_ecf.mp4'\n",
    "var_name='ECF'\n",
    "\n",
    "date1 = '2018-01-01'\n",
    "date2 = '2018-12-31'\n",
    "\n",
    "datarray = ds_ecf[var_name].sel(time=slice(date1, date2))\n",
    "\n",
    "create_video_from_xarray(datarray, output_file, value_range=None, title='ECF', dist_range=False)"
   ]
  }
 ],
 "metadata": {
  "kernelspec": {
   "display_name": "gdal",
   "language": "python",
   "name": "python3"
  },
  "language_info": {
   "codemirror_mode": {
    "name": "ipython",
    "version": 3
   },
   "file_extension": ".py",
   "mimetype": "text/x-python",
   "name": "python",
   "nbconvert_exporter": "python",
   "pygments_lexer": "ipython3",
   "version": "3.10.12"
  }
 },
 "nbformat": 4,
 "nbformat_minor": 2
}
